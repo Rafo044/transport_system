{
  "nbformat": 4,
  "nbformat_minor": 0,
  "metadata": {
    "colab": {
      "provenance": []
    },
    "kernelspec": {
      "name": "python3",
      "display_name": "Python 3"
    },
    "language_info": {
      "name": "python"
    }
  },
  "cells": [
    {
      "cell_type": "code",
      "source": [
        "from faker import Faker\n",
        "import csv\n",
        "faker = Faker('az_AZ')\n",
        "from datetime import datetime, timedelta\n",
        "import pandas as pd\n"
      ],
      "metadata": {
        "id": "ice2G-nKwA_j"
      },
      "execution_count": 11,
      "outputs": []
    },
    {
      "cell_type": "code",
      "execution_count": 1,
      "metadata": {
        "id": "Aw37P2dct7D1"
      },
      "outputs": [],
      "source": [
        "cities = [\n",
        "    {\"city_id\": 1, \"city_name\": \"Bakı\"},\n",
        "    {\"city_id\": 2, \"city_name\": \"Gəncə\"},\n",
        "    {\"city_id\": 3, \"city_name\": \"Sumqayıt\"},\n",
        "    {\"city_id\": 4, \"city_name\": \"Mingəçevir\"},\n",
        "    {\"city_id\": 5, \"city_name\": \"Şəki\"},\n",
        "]\n",
        "\n",
        "with open(\"cities.csv\", \"w\", newline=\"\", encoding=\"utf-8\") as f:\n",
        "    writer = csv.DictWriter(f, fieldnames=[\"city_id\", \"city_name\"])\n",
        "    writer.writeheader()\n",
        "    writer.writerows(cities)\n"
      ]
    },
    {
      "cell_type": "code",
      "source": [
        "stations = []\n",
        "station_id = 1\n",
        "\n",
        "for city_id in range(1, 6):\n",
        "    for _ in range(5):\n",
        "        stations.append({\n",
        "            \"station_id\": station_id,\n",
        "            \"station_name\": fake.street_name(),\n",
        "            \"city_id\": city_id\n",
        "        })\n",
        "        station_id += 1\n",
        "\n",
        "with open(\"stations2.csv\", \"w\", newline=\"\", encoding=\"utf-8\") as f:\n",
        "    writer = csv.DictWriter(f, fieldnames=[\"station_id\", \"station_name\", \"city_id\"])\n",
        "    writer.writeheader()\n",
        "    writer.writerows(stations)\n"
      ],
      "metadata": {
        "id": "RAk9GHA5uDLQ"
      },
      "execution_count": 13,
      "outputs": []
    },
    {
      "cell_type": "code",
      "source": [
        "routes = []\n",
        "route_id = 1\n",
        "for _ in range(20):\n",
        "    city_id = random.randint(1, 5)\n",
        "    route_number = f\"{random.randint(1,99)}A\"\n",
        "    vehicle_type = random.choice([\"Bus\", \"Trolleybus\", \"Minibus\"])\n",
        "    routes.append({\n",
        "        \"route_id\": route_id,\n",
        "        \"route_number\": route_number,\n",
        "        \"vehicle_type\": vehicle_type,\n",
        "        \"city_id\": city_id\n",
        "    })\n",
        "    route_id += 1\n",
        "\n",
        "with open(\"routes.csv\", \"w\", newline=\"\", encoding=\"utf-8\") as f:\n",
        "    writer = csv.DictWriter(f, fieldnames=[\"route_id\", \"route_number\", \"vehicle_type\", \"city_id\"])\n",
        "    writer.writeheader()\n",
        "    writer.writerows(routes)\n"
      ],
      "metadata": {
        "id": "0WRppprruDIZ"
      },
      "execution_count": 5,
      "outputs": []
    },
    {
      "cell_type": "code",
      "source": [
        "\n",
        "vehicles = []\n",
        "for vehicle_id in range(1, 51):\n",
        "    vehicle_number = f\"{random.randint(10, 99)}-{random.choice('ABCDEFGH')}{random.choice('LMNOPQRS')}-{random.randint(100,999)}\"\n",
        "    capacity = random.choice([30, 40, 50, 60])\n",
        "    route_id = random.randint(1, 20)\n",
        "    vehicles.append({\n",
        "        \"vehicle_id\": vehicle_id,\n",
        "        \"vehicle_number\": vehicle_number,\n",
        "        \"capacity\": capacity,\n",
        "        \"route_id\": route_id\n",
        "    })\n",
        "\n",
        "with open(\"vehicles.csv\", \"w\", newline=\"\", encoding=\"utf-8\") as f:\n",
        "    writer = csv.DictWriter(f, fieldnames=[\"vehicle_id\", \"vehicle_number\", \"capacity\", \"route_id\"])\n",
        "    writer.writeheader()\n",
        "    writer.writerows(vehicles)\n"
      ],
      "metadata": {
        "id": "2lPb6WOJuDGK"
      },
      "execution_count": 6,
      "outputs": []
    },
    {
      "cell_type": "code",
      "source": [
        "drivers = []\n",
        "for driver_id in range(1, 51):\n",
        "    full_name = fake.name()\n",
        "    license_number = f\"D{random.randint(10000, 99999)}\"\n",
        "    vehicle_id = driver_id\n",
        "    drivers.append({\n",
        "        \"driver_id\": driver_id,\n",
        "        \"full_name\": full_name,\n",
        "        \"license_number\": license_number,\n",
        "        \"vehicle_id\": vehicle_id\n",
        "    })\n",
        "\n",
        "with open(\"drivers2.csv\", \"w\", newline=\"\", encoding=\"utf-8\") as f:\n",
        "    writer = csv.DictWriter(f, fieldnames=[\"driver_id\", \"full_name\", \"license_number\", \"vehicle_id\"])\n",
        "    writer.writeheader()\n",
        "    writer.writerows(drivers)\n"
      ],
      "metadata": {
        "id": "nbKQNEPwuVCg"
      },
      "execution_count": 14,
      "outputs": []
    },
    {
      "cell_type": "code",
      "source": [
        "from datetime import datetime, timedelta\n",
        "\n",
        "trips = []\n",
        "trip_id = 1\n",
        "for _ in range(100):\n",
        "    route_id = random.randint(1, 20)\n",
        "    vehicle_id = random.randint(1, 50)\n",
        "    driver_id = vehicle_id\n",
        "    departure_time = fake.date_time_between(start_date=\"-10d\", end_date=\"now\")\n",
        "    duration = random.randint(20, 90)\n",
        "    arrival_time = departure_time + timedelta(minutes=duration)\n",
        "    trips.append({\n",
        "        \"trip_id\": trip_id,\n",
        "        \"route_id\": route_id,\n",
        "        \"vehicle_id\": vehicle_id,\n",
        "        \"driver_id\": driver_id,\n",
        "        \"departure_time\": departure_time.strftime(\"%Y-%m-%d %H:%M:%S\"),\n",
        "        \"arrival_time\": arrival_time.strftime(\"%Y-%m-%d %H:%M:%S\")\n",
        "    })\n",
        "    trip_id += 1\n",
        "\n",
        "with open(\"trips.csv\", \"w\", newline=\"\", encoding=\"utf-8\") as f:\n",
        "    writer = csv.DictWriter(f, fieldnames=[\"trip_id\", \"route_id\", \"vehicle_id\", \"driver_id\", \"departure_time\", \"arrival_time\"])\n",
        "    writer.writeheader()\n",
        "    writer.writerows(trips)\n"
      ],
      "metadata": {
        "id": "G-Op1aB2uZBc"
      },
      "execution_count": 8,
      "outputs": []
    },
    {
      "cell_type": "code",
      "source": [
        "tickets = []\n",
        "for ticket_id in range(1, 201):\n",
        "    trip_id = random.randint(1, 100)\n",
        "    passenger_name = fake.name()\n",
        "    seat_number = random.randint(1, 60)\n",
        "    price = round(random.uniform(0.3, 1.5), 2)\n",
        "    purchase_time = fake.date_time_between(start_date=\"-7d\", end_date=\"now\").strftime(\"%Y-%m-%d %H:%M:%S\")\n",
        "    tickets.append({\n",
        "        \"ticket_id\": ticket_id,\n",
        "        \"trip_id\": trip_id,\n",
        "        \"passenger_name\": passenger_name,\n",
        "        \"seat_number\": seat_number,\n",
        "        \"price\": price,\n",
        "        \"purchase_time\": purchase_time\n",
        "    })\n",
        "\n",
        "with open(\"tickets.csv\", \"w\", newline=\"\", encoding=\"utf-8\") as f:\n",
        "    writer = csv.DictWriter(f, fieldnames=[\"ticket_id\", \"trip_id\", \"passenger_name\", \"seat_number\", \"price\", \"purchase_time\"])\n",
        "    writer.writeheader()\n",
        "    writer.writerows(tickets)\n"
      ],
      "metadata": {
        "id": "OSwFOFKduY-m"
      },
      "execution_count": 9,
      "outputs": []
    },
    {
      "cell_type": "code",
      "source": [
        "Faker.seed(42)\n",
        "num_stations = 30\n",
        "stations = []\n",
        "\n",
        "for _ in range(num_stations):\n",
        "    station = {\n",
        "        \"station_id\": faker.unique.random_int(min=1000, max=9999),\n",
        "        \"station_name\": faker.city(),\n",
        "        \"district\": faker.region(),\n",
        "        \"is_active\": faker.boolean(chance_of_getting_true=90)\n",
        "    }\n",
        "    stations.append(station)\n",
        "\n",
        "df_stations = pd.DataFrame(stations)\n",
        "df_stations.to_csv(\"/mnt/data/stations2.csv\", index=False)\n",
        "df_stations.head()\n"
      ],
      "metadata": {
        "colab": {
          "base_uri": "https://localhost:8080/",
          "height": 341
        },
        "id": "ZtJLeZ1FuY8n",
        "outputId": "86a16b49-cbac-41f9-e2b3-fa9d2d6cc925"
      },
      "execution_count": 10,
      "outputs": [
        {
          "output_type": "error",
          "ename": "AttributeError",
          "evalue": "'Generator' object has no attribute 'region'",
          "traceback": [
            "\u001b[0;31m---------------------------------------------------------------------------\u001b[0m",
            "\u001b[0;31mAttributeError\u001b[0m                            Traceback (most recent call last)",
            "\u001b[0;32m/tmp/ipython-input-10-4081127936.py\u001b[0m in \u001b[0;36m<cell line: 0>\u001b[0;34m()\u001b[0m\n\u001b[1;32m     14\u001b[0m         \u001b[0;34m\"station_id\"\u001b[0m\u001b[0;34m:\u001b[0m \u001b[0mfaker\u001b[0m\u001b[0;34m.\u001b[0m\u001b[0munique\u001b[0m\u001b[0;34m.\u001b[0m\u001b[0mrandom_int\u001b[0m\u001b[0;34m(\u001b[0m\u001b[0mmin\u001b[0m\u001b[0;34m=\u001b[0m\u001b[0;36m1000\u001b[0m\u001b[0;34m,\u001b[0m \u001b[0mmax\u001b[0m\u001b[0;34m=\u001b[0m\u001b[0;36m9999\u001b[0m\u001b[0;34m)\u001b[0m\u001b[0;34m,\u001b[0m\u001b[0;34m\u001b[0m\u001b[0;34m\u001b[0m\u001b[0m\n\u001b[1;32m     15\u001b[0m         \u001b[0;34m\"station_name\"\u001b[0m\u001b[0;34m:\u001b[0m \u001b[0mfaker\u001b[0m\u001b[0;34m.\u001b[0m\u001b[0mcity\u001b[0m\u001b[0;34m(\u001b[0m\u001b[0;34m)\u001b[0m\u001b[0;34m,\u001b[0m\u001b[0;34m\u001b[0m\u001b[0;34m\u001b[0m\u001b[0m\n\u001b[0;32m---> 16\u001b[0;31m         \u001b[0;34m\"district\"\u001b[0m\u001b[0;34m:\u001b[0m \u001b[0mfaker\u001b[0m\u001b[0;34m.\u001b[0m\u001b[0mregion\u001b[0m\u001b[0;34m(\u001b[0m\u001b[0;34m)\u001b[0m\u001b[0;34m,\u001b[0m\u001b[0;34m\u001b[0m\u001b[0;34m\u001b[0m\u001b[0m\n\u001b[0m\u001b[1;32m     17\u001b[0m         \u001b[0;34m\"is_active\"\u001b[0m\u001b[0;34m:\u001b[0m \u001b[0mfaker\u001b[0m\u001b[0;34m.\u001b[0m\u001b[0mboolean\u001b[0m\u001b[0;34m(\u001b[0m\u001b[0mchance_of_getting_true\u001b[0m\u001b[0;34m=\u001b[0m\u001b[0;36m90\u001b[0m\u001b[0;34m)\u001b[0m\u001b[0;34m\u001b[0m\u001b[0;34m\u001b[0m\u001b[0m\n\u001b[1;32m     18\u001b[0m     }\n",
            "\u001b[0;32m/usr/local/lib/python3.11/dist-packages/faker/proxy.py\u001b[0m in \u001b[0;36m__getattr__\u001b[0;34m(self, attr)\u001b[0m\n\u001b[1;32m    128\u001b[0m         \"\"\"\n\u001b[1;32m    129\u001b[0m         \u001b[0;32mif\u001b[0m \u001b[0mlen\u001b[0m\u001b[0;34m(\u001b[0m\u001b[0mself\u001b[0m\u001b[0;34m.\u001b[0m\u001b[0m_factories\u001b[0m\u001b[0;34m)\u001b[0m \u001b[0;34m==\u001b[0m \u001b[0;36m1\u001b[0m\u001b[0;34m:\u001b[0m\u001b[0;34m\u001b[0m\u001b[0;34m\u001b[0m\u001b[0m\n\u001b[0;32m--> 130\u001b[0;31m             \u001b[0;32mreturn\u001b[0m \u001b[0mgetattr\u001b[0m\u001b[0;34m(\u001b[0m\u001b[0mself\u001b[0m\u001b[0;34m.\u001b[0m\u001b[0m_factories\u001b[0m\u001b[0;34m[\u001b[0m\u001b[0;36m0\u001b[0m\u001b[0;34m]\u001b[0m\u001b[0;34m,\u001b[0m \u001b[0mattr\u001b[0m\u001b[0;34m)\u001b[0m\u001b[0;34m\u001b[0m\u001b[0;34m\u001b[0m\u001b[0m\n\u001b[0m\u001b[1;32m    131\u001b[0m         \u001b[0;32melif\u001b[0m \u001b[0mattr\u001b[0m \u001b[0;32min\u001b[0m \u001b[0mself\u001b[0m\u001b[0;34m.\u001b[0m\u001b[0mgenerator_attrs\u001b[0m\u001b[0;34m:\u001b[0m\u001b[0;34m\u001b[0m\u001b[0;34m\u001b[0m\u001b[0m\n\u001b[1;32m    132\u001b[0m             \u001b[0mmsg\u001b[0m \u001b[0;34m=\u001b[0m \u001b[0;34m\"Proxying calls to `%s` is not implemented in multiple locale mode.\"\u001b[0m \u001b[0;34m%\u001b[0m \u001b[0mattr\u001b[0m\u001b[0;34m\u001b[0m\u001b[0;34m\u001b[0m\u001b[0m\n",
            "\u001b[0;31mAttributeError\u001b[0m: 'Generator' object has no attribute 'region'"
          ]
        }
      ]
    }
  ]
}