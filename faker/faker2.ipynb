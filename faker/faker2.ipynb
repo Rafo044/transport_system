{
  "nbformat": 4,
  "nbformat_minor": 0,
  "metadata": {
    "colab": {
      "provenance": []
    },
    "kernelspec": {
      "name": "python3",
      "display_name": "Python 3"
    },
    "language_info": {
      "name": "python"
    }
  },
  "cells": [
    {
      "cell_type": "code",
      "source": [
        "import csv\n",
        "import random\n",
        "from faker import Faker\n",
        "from datetime import datetime, timedelta\n",
        "\n",
        "fake = Faker('az_AZ')"
      ],
      "metadata": {
        "id": "CdkRIdGAzquw"
      },
      "execution_count": 2,
      "outputs": []
    },
    {
      "cell_type": "code",
      "execution_count": 3,
      "metadata": {
        "id": "J8yoHe5pzi0m"
      },
      "outputs": [],
      "source": [
        "\n",
        "\n",
        "# Ayarlar\n",
        "NUM_RECORDS = 100\n",
        "\n",
        "# 1. schedules.csv\n",
        "with open('schedules.csv', 'w', newline='') as file:\n",
        "    writer = csv.writer(file)\n",
        "    writer.writerow(['schedule_id', 'route_id', 'vehicle_id', 'driver_id', 'departure_time', 'arrival_time'])\n",
        "    for i in range(1, NUM_RECORDS + 1):\n",
        "        dep_time = fake.date_time_this_month()\n",
        "        arr_time = dep_time + timedelta(minutes=random.randint(20, 180))\n",
        "        writer.writerow([i, random.randint(1, 20), random.randint(1, 50), random.randint(1, 50), dep_time, arr_time])\n",
        "\n",
        "# 2. gps_logs.csv\n",
        "with open('gps_logs.csv', 'w', newline='') as file:\n",
        "    writer = csv.writer(file)\n",
        "    writer.writerow(['log_id', 'vehicle_id', 'timestamp', 'latitude', 'longitude'])\n",
        "    for i in range(1, NUM_RECORDS + 1):\n",
        "        writer.writerow([i, random.randint(1, 50), fake.date_time_this_year(), fake.latitude(), fake.longitude()])\n",
        "\n",
        "# 3. passenger_counts.csv\n",
        "with open('passenger_counts.csv', 'w', newline='') as file:\n",
        "    writer = csv.writer(file)\n",
        "    writer.writerow(['count_id', 'station_id', 'trip_id', 'timestamp', 'passenger_count'])\n",
        "    for i in range(1, NUM_RECORDS + 1):\n",
        "        writer.writerow([i, random.randint(1, 50), random.randint(1, 100), fake.date_time_this_month(), random.randint(1, 100)])\n",
        "\n",
        "# 4. fare_cards.csv\n",
        "with open('fare_cards.csv', 'w', newline='') as file:\n",
        "    writer = csv.writer(file)\n",
        "    writer.writerow(['card_id', 'user_id', 'issue_date', 'balance'])\n",
        "    for i in range(1, NUM_RECORDS + 1):\n",
        "        writer.writerow([i, i, fake.date_this_year(), round(random.uniform(1, 50), 2)])\n",
        "\n",
        "# 5. payments.csv\n",
        "with open('payments.csv', 'w', newline='') as file:\n",
        "    writer = csv.writer(file)\n",
        "    writer.writerow(['payment_id', 'card_id', 'amount', 'payment_time'])\n",
        "    for i in range(1, NUM_RECORDS + 1):\n",
        "        writer.writerow([i, random.randint(1, NUM_RECORDS), round(random.uniform(0.2, 2.0), 2), fake.date_time_this_year()])\n",
        "\n",
        "# 6. incidents.csv\n",
        "incident_types = ['Texniki nasazlıq', 'Qəza', 'Tıxac', 'Sürücü problemi']\n",
        "with open('incidents.csv', 'w', newline='') as file:\n",
        "    writer = csv.writer(file)\n",
        "    writer.writerow(['incident_id', 'trip_id', 'incident_time', 'description'])\n",
        "    for i in range(1, NUM_RECORDS + 1):\n",
        "        writer.writerow([i, random.randint(1, 100), fake.date_time_this_year(), random.choice(incident_types)])\n",
        "\n",
        "# 7. users.csv\n",
        "with open('users.csv', 'w', newline='') as file:\n",
        "    writer = csv.writer(file)\n",
        "    writer.writerow(['user_id', 'full_name', 'email', 'birth_date'])\n",
        "    for i in range(1, NUM_RECORDS + 1):\n",
        "        name = fake.name()\n",
        "        email = fake.email()\n",
        "        birth = fake.date_of_birth(minimum_age=18, maximum_age=70)\n",
        "        writer.writerow([i, name, email, birth])\n"
      ]
    }
  ]
}